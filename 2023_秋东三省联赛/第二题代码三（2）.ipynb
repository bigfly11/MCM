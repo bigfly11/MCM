{
 "cells": [
  {
   "cell_type": "code",
   "execution_count": 10,
   "id": "ba7a0f1b",
   "metadata": {},
   "outputs": [
    {
     "name": "stdout",
     "output_type": "stream",
     "text": [
      "0.6153846153846154\n",
      "              precision    recall  f1-score   support\n",
      "\n",
      "           0       0.73      0.80      0.76        10\n",
      "           1       0.00      0.00      0.00         3\n",
      "\n",
      "    accuracy                           0.62        13\n",
      "   macro avg       0.36      0.40      0.38        13\n",
      "weighted avg       0.56      0.62      0.59        13\n",
      "\n",
      "0.29999999999999993\n",
      "0.1584175084175084\n"
     ]
    },
    {
     "data": {
      "image/png": "[encoded data removed]",
      "text/plain": [
       "<Figure size 640x480 with 2 Axes>"
      ]
     },
     "metadata": {},
     "output_type": "display_data"
    }
   ],
   "source": [
    "import pandas as pd\n",
    "import numpy as np\n",
    "from matplotlib import pyplot as plt\n",
    "import seaborn as sns\n",
    "data=pd.read_excel('output4.xlsx')\n",
    "\n",
    "data1=data[['开始吸烟年龄','是否吸烟','平均每周吸烟天数','饮酒年数', '是否饮酒','饮酒年数', '啤酒平均每次饮用量',\n",
    "             '平均每天体育锻炼时间','被动吸烟天数为','不吃早餐','早餐带餐到单位', '单位食堂早餐', '在餐馆或街头吃早餐', \n",
    "             '周末在家吃早餐人数','不吃中餐', '中餐带餐到单位',  '在餐馆或街头吃中餐', '不吃晚餐', '晚餐带餐到单位', '单位食堂晚餐',\n",
    "             '在餐馆或街头吃晚餐','鲜奶平均每次食用量',  '泡菜平均每次食用量', '水果平均每次食用量',  \n",
    "             '动物油', '盐',  '酱类', '味精',  '食用薯类的频率', \n",
    "            '食用油炸面食的频率', '食用牛羊肉的频率','食用内脏的频率',\n",
    "            '食用奶粉的频率', '食用酸奶的频率',  '食用豆腐丝等的频率',\n",
    "            '食用干豆的频率',  '食用咸菜的频率',  '食用酸菜的频率',\n",
    "           '食用果汁饮料的频率', '食用其他饮料的频率','婚姻状况'\n",
    "]]\n",
    "\n",
    "\n",
    "def dis_data(data1):\n",
    "    data2 = []\n",
    "    row, col = data1.shape\n",
    "    for i in range(col):\n",
    "        data2.append(data1[:, i])\n",
    "    return data2\n",
    "\n",
    "\n",
    "data_1=np.array(data1)\n",
    "data2=dis_data(data_1)\n",
    "data4=data2\n",
    "data3=np.array(data['婚姻状况'].values)\n",
    "data4.append(data3)\n",
    "y=[0,0,0,0,0,0,0,1,1,1,0,1,0,0,1,0,0,0,0,1,1,1,0,1,0,0,0,0,1,1,0,0,1,1,1,1,0,0,1,1\n",
    "\n",
    "\n",
    "]\n",
    "\n",
    "\n",
    "\n",
    "from sklearn.linear_model import LogisticRegression\n",
    "\n",
    "from sklearn.metrics import mean_absolute_error, accuracy_score\n",
    "\n",
    "from sklearn.model_selection import train_test_split\n",
    "x_train,x_test,y_train,y_test=train_test_split(data4,y,test_size=0.2,random_state=42)\n",
    "## call on the model object\n",
    "logreg = LogisticRegression(solver='liblinear',\n",
    "                            penalty= 'l1',random_state = 42   \n",
    "                            )\n",
    "\n",
    "## fit the model with \"train_x\" and \"train_y\"\n",
    "logreg.fit(x_train,y_train)\n",
    "\n",
    "y_pred = logreg.predict(x_test)\n",
    "from sklearn.metrics import confusion_matrix\n",
    "from sklearn.metrics import ConfusionMatrixDisplay\n",
    "\n",
    "y_pred = logreg.predict(x_test)\n",
    "cm = confusion_matrix(y_test, y_pred)\n",
    "\n",
    "cm_display = ConfusionMatrixDisplay(cm,display_labels='').plot()\n",
    "plt.savefig('output2.png', dpi=4000, bbox_inches='tight')  #将图片保存到磁盘\n",
    "\n",
    "\n",
    "from sklearn.metrics import accuracy_score\n",
    "print(accuracy_score(y_test, y_pred))\n",
    "\n",
    "from sklearn.metrics import classification_report, balanced_accuracy_score\n",
    "df=classification_report(y_test, y_pred,output_dict=True)\n",
    "data10=pd.DataFrame(df).transpose()\n",
    "data10.to_excel('score2.xlsx')\n",
    "print(classification_report(y_test, y_pred))\n",
    "\n",
    "from sklearn.metrics import roc_curve, auc\n",
    "#plt.style.use('seaborn-pastel')\n",
    "y_score = logreg.decision_function(x_test)\n",
    "\n",
    "FPR, TPR, _ = roc_curve(y_test, y_score)\n",
    "ROC_AUC = auc(FPR, TPR)\n",
    "print (ROC_AUC)\n",
    "\n",
    "\n",
    "from sklearn.metrics import precision_recall_curve\n",
    "\n",
    "y_score = logreg.decision_function(x_test)\n",
    "\n",
    "precision, recall, _ = precision_recall_curve(y_test, y_score)\n",
    "PR_AUC = auc(recall, precision)\n",
    "print(PR_AUC)"
   ]
  },
  {
   "cell_type": "code",
   "execution_count": null,
   "id": "98cdec29",
   "metadata": {},
   "outputs": [],
   "source": []
  }
 ],
 "metadata": {
  "kernelspec": {
   "display_name": "Python 3 (ipykernel)",
   "language": "python",
   "name": "python3"
  },
  "language_info": {
   "codemirror_mode": {
    "name": "ipython",
    "version": 3
   },
   "file_extension": ".py",
   "mimetype": "text/x-python",
   "name": "python",
   "nbconvert_exporter": "python",
   "pygments_lexer": "ipython3",
   "version": "3.10.9"
  }
 },
 "nbformat": 4,
 "nbformat_minor": 5
}
