{
 "cells": [
  {
   "cell_type": "code",
   "execution_count": 5,
   "id": "7c1db98f",
   "metadata": {},
   "outputs": [
    {
     "name": "stdout",
     "output_type": "stream",
     "text": [
      "1.0\n",
      "              precision    recall  f1-score   support\n",
      "\n",
      "           0       1.00      1.00      1.00         7\n",
      "\n",
      "    accuracy                           1.00         7\n",
      "   macro avg       1.00      1.00      1.00         7\n",
      "weighted avg       1.00      1.00      1.00         7\n",
      "\n",
      "nan\n",
      "0.5\n"
     ]
    },
    {
     "name": "stderr",
     "output_type": "stream",
     "text": [
      "D:\\develop\\Anaconda\\lib\\site-packages\\sklearn\\metrics\\_ranking.py:1132: UndefinedMetricWarning: No positive samples in y_true, true positive value should be meaningless\n",
      "  warnings.warn(\n",
      "D:\\develop\\Anaconda\\lib\\site-packages\\sklearn\\metrics\\_ranking.py:979: UserWarning: No positive class found in y_true, recall is set to one for all thresholds.\n",
      "  warnings.warn(\n"
     ]
    },
    {
     "data": {
      "image/png": "[encoded data removed]",
      "text/plain": [
       "<Figure size 640x480 with 2 Axes>"
      ]
     },
     "metadata": {},
     "output_type": "display_data"
    }
   ],
   "source": [
    "import pandas as pd\n",
    "import numpy as np\n",
    "from matplotlib import pyplot as plt\n",
    "import seaborn as sns\n",
    "data=pd.read_excel('output4.xlsx')\n",
    "\n",
    "data1=data[['小麦面粉平均每次食用量',  '杂粮平均每次食用量','薯类平均每次食用量', \n",
    "'油炸面食平均每次食用量',  '猪肉平均每次食用量', '牛羊肉平均每次食用量', \n",
    "'禽肉平均每次食用量', '内脏类平均每次食用量', '水产类平均每次食用量', \n",
    "'鲜奶平均每次食用量', '奶粉平均每次食用量',  '酸奶平均每次食用量', \n",
    "'豆腐平均每次食用量', '豆腐丝平均每次食用量',  '豆浆平均每次食用量', \n",
    "'干豆平均每次食用量', '新鲜蔬菜平均每次食用量',  '海草类平均每次食用量', \n",
    "'咸菜平均每次食用量',  '泡菜平均每次食用量', '酸菜平均每次食用量',\n",
    "'糕点平均每次食用量',  '水果平均每次食用量', '果汁饮料平均每次食用量', \n",
    "'其他饮料平均每次食用量', '植物油', '动物油', '盐', '酱油', '醋', '酱类', \n",
    "'味精',  '食用小麦面粉的频率', '食用杂粮的频率', '食用薯类的频率', \n",
    "'食用油炸面食的频率', '食用猪肉的频率', '食用牛羊肉的频率', '食用禽肉的频率',\n",
    "'食用内脏的频率', '食用水产的频率', '食用鲜奶的频率', '食用奶粉的频率',\n",
    "'食用酸奶的频率', '食用蛋类的频率', '食用豆腐的频率', '食用豆腐丝等的频率', \n",
    "'食用豆浆的频率', '食用干豆的频率',  '食用海草的频率', '食用咸菜的频率', \n",
    "'食用泡菜的频率', '食用酸菜的频率', '食用糕点的频率', '食用水果的频率', \n",
    "'食用果汁饮料的频率', '食用其他饮料的频率','是否吃海草类','大米平均每次食用量',\n",
    "            '蛋类平均每次食用量','水产类平均每次食用量'\n",
    "]]\n",
    "\n",
    "\n",
    "def dis_data(data1):\n",
    "    data2 = []\n",
    "    row, col = data1.shape\n",
    "    for i in range(col):\n",
    "        data2.append(data1[:, i])\n",
    "    return data2\n",
    "\n",
    "\n",
    "data_1=np.array(data1)\n",
    "data2=dis_data(data_1)\n",
    "data4=data2\n",
    "data3=np.array(data['婚姻状况'].values)\n",
    "data4.append(data3)\n",
    "y=[0,0,0,0,0,0,0,0,0,1,0,1,0,1,0,0,0,0,0,1,0,0,0,0,0,0,1,0,0,1,0,1,0,0,0,0,0,0,0,0,1,0,0,0,0,0,0,0,0,0,0,0,0,0,0,0,0,0,0,0,0,1\n",
    "\n",
    "]\n",
    "\n",
    "\n",
    "from sklearn.linear_model import LogisticRegression\n",
    "from sklearn.model_selection import train_test_split\n",
    "from sklearn.metrics import mean_absolute_error, accuracy_score\n",
    "\n",
    "x_train,x_test,y_train,y_test=train_test_split(data4,y,test_size=0.1,random_state=42)\n",
    "## call on the model object\n",
    "logreg = LogisticRegression(solver='liblinear',\n",
    "                            penalty= 'l1',random_state = 42   \n",
    "                            )\n",
    "\n",
    "## fit the model with \"train_x\" and \"train_y\"\n",
    "logreg.fit(x_train,y_train)\n",
    "\n",
    "y_pred = logreg.predict(x_test)\n",
    "from sklearn.metrics import confusion_matrix\n",
    "from sklearn.metrics import ConfusionMatrixDisplay\n",
    "\n",
    "y_pred = logreg.predict(x_test)\n",
    "cm = confusion_matrix(y_test, y_pred)\n",
    "\n",
    "cm_display = ConfusionMatrixDisplay(cm,display_labels='').plot()\n",
    "plt.savefig('output5.png', dpi=4000, bbox_inches='tight')  #将图片保存到磁盘\n",
    "\n",
    "\n",
    "from sklearn.metrics import accuracy_score\n",
    "print(accuracy_score(y_test, y_pred))\n",
    "\n",
    "from sklearn.metrics import classification_report, balanced_accuracy_score\n",
    "df=classification_report(y_test, y_pred,output_dict=True)\n",
    "data10=pd.DataFrame(df).transpose()\n",
    "data10.to_excel('score5.xlsx')\n",
    "print(classification_report(y_test, y_pred))\n",
    "\n",
    "from sklearn.metrics import roc_curve, auc\n",
    "#plt.style.use('seaborn-pastel')\n",
    "y_score = logreg.decision_function(x_test)\n",
    "\n",
    "FPR, TPR, _ = roc_curve(y_test, y_score)\n",
    "ROC_AUC = auc(FPR, TPR)\n",
    "print (ROC_AUC)\n",
    "\n",
    "\n",
    "from sklearn.metrics import precision_recall_curve\n",
    "\n",
    "y_score = logreg.decision_function(x_test)\n",
    "\n",
    "precision, recall, _ = precision_recall_curve(y_test, y_score)\n",
    "PR_AUC = auc(recall, precision)\n",
    "print(PR_AUC)"
   ]
  },
  {
   "cell_type": "code",
   "execution_count": null,
   "id": "b74d78f9",
   "metadata": {},
   "outputs": [],
   "source": []
  }
 ],
 "metadata": {
  "kernelspec": {
   "display_name": "Python 3 (ipykernel)",
   "language": "python",
   "name": "python3"
  },
  "language_info": {
   "codemirror_mode": {
    "name": "ipython",
    "version": 3
   },
   "file_extension": ".py",
   "mimetype": "text/x-python",
   "name": "python",
   "nbconvert_exporter": "python",
   "pygments_lexer": "ipython3",
   "version": "3.10.9"
  }
 },
 "nbformat": 4,
 "nbformat_minor": 5
}
