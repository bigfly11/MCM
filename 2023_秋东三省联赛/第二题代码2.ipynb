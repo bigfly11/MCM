{
 "cells": [
  {
   "cell_type": "code",
   "execution_count": 7,
   "id": "4ae5b339",
   "metadata": {},
   "outputs": [],
   "source": [
    "import pandas as pd\n",
    "import numpy as np\n",
    "import matplotlib.pyplot as plt\n",
    "from scipy.stats import spearmanr\n",
    "import warnings\n",
    "\n",
    "\n",
    "data1=pd.read_excel('output(预处理最后版本).xlsx')\n",
    "data2=data1[['开始吸烟年龄','是否吸烟','平均每周吸烟天数','饮酒年数', '是否饮酒','饮酒年数', '啤酒平均每次饮用量',\n",
    "             '平均每天体育锻炼时间','被动吸烟天数为','不吃早餐','早餐带餐到单位', '单位食堂早餐', '在餐馆或街头吃早餐', \n",
    "             '周末在家吃早餐人数','不吃中餐', '中餐带餐到单位',  '在餐馆或街头吃中餐', '不吃晚餐', '晚餐带餐到单位', '单位食堂晚餐',\n",
    "             '在餐馆或街头吃晚餐','出生年','性别','文化程度','婚姻状况','职业']]\n",
    "df = pd.DataFrame(data2)\n",
    "\n",
    "# 计算斯皮尔曼相关系数矩阵\n",
    "corr, pval = spearmanr(df)\n",
    "\n",
    "corr_df = pd.DataFrame(corr, columns=df.columns, index=df.columns)\n",
    "pval_df = pd.DataFrame(pval, columns=df.columns, index=df.columns)\n",
    "\n",
    "# 将结果保存为Excel文件\n",
    "\n",
    "pval_df.to_excel('output6.xlsx')"
   ]
  },
  {
   "cell_type": "code",
   "execution_count": 8,
   "id": "be3c2fab",
   "metadata": {},
   "outputs": [],
   "source": [
    "import pandas as pd\n",
    "import numpy as np\n",
    "import matplotlib.pyplot as plt\n",
    "from scipy.stats import spearmanr\n",
    "import warnings\n",
    "\n",
    "\n",
    "data1=pd.read_excel('output(预处理最后版本).xlsx')\n",
    "data2=data1[['鲜奶平均每次食用量',  '泡菜平均每次食用量', '水果平均每次食用量',  \n",
    "             '动物油', '盐',  '酱类', '味精',  '食用薯类的频率', \n",
    "            '食用油炸面食的频率', '食用牛羊肉的频率','食用内脏的频率',\n",
    "            '食用奶粉的频率', '食用酸奶的频率',  '食用豆腐丝等的频率',\n",
    "            '食用干豆的频率',  '食用咸菜的频率',  '食用酸菜的频率',\n",
    "           '食用果汁饮料的频率', '食用其他饮料的频率','职业''性别','文化程度','婚姻状况','职业']]\n",
    "df = pd.DataFrame(data2)\n",
    "\n",
    "# 计算斯皮尔曼相关系数矩阵\n",
    "corr, pval = spearmanr(df)\n",
    "\n",
    "corr_df = pd.DataFrame(corr, columns=df.columns, index=df.columns)\n",
    "pval_df = pd.DataFrame(pval, columns=df.columns, index=df.columns)\n",
    "\n",
    "# 将结果保存为Excel文件\n",
    "\n",
    "pval_df.to_excel('output9.xlsx')"
   ]
  },
  {
   "cell_type": "code",
   "execution_count": null,
   "id": "b1359b26",
   "metadata": {},
   "outputs": [],
   "source": []
  }
 ],
 "metadata": {
  "kernelspec": {
   "display_name": "Python 3 (ipykernel)",
   "language": "python",
   "name": "python3"
  },
  "language_info": {
   "codemirror_mode": {
    "name": "ipython",
    "version": 3
   },
   "file_extension": ".py",
   "mimetype": "text/x-python",
   "name": "python",
   "nbconvert_exporter": "python",
   "pygments_lexer": "ipython3",
   "version": "3.10.9"
  }
 },
 "nbformat": 4,
 "nbformat_minor": 5
}
